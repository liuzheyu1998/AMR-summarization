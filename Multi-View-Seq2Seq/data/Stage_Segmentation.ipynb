{
 "cells": [
  {
   "cell_type": "code",
   "execution_count": 1,
   "metadata": {},
   "outputs": [],
   "source": [
    "import pickle\n",
    "with open('1800train_100dev_100test.source_sentence_transformer.pkl', 'rb') as f:\n",
    "    train = pickle.load(f)\n",
    "\n",
    "import numpy as np\n",
    "length = []\n",
    "for i in range(0, len(train)):\n",
    "    length.append(len(train[i]))\n",
    "\n",
    "X = []\n",
    "for i in range(0, len(train)):\n",
    "    for j in range(0, len(train[i])):\n",
    "        X.append(np.array(train[i][j]))"
   ]
  },
  {
   "cell_type": "code",
   "execution_count": 2,
   "metadata": {},
   "outputs": [],
   "source": [
    "from hmmlearn import hmm\n",
    "remodel = hmm.GaussianHMM(n_components=4, n_iter = 50, covariance_type = 'diag', verbose = True, init_params=\"cm\", params=\"cmts\")\n",
    "remodel.startprob_ = np.array([1, 0.0, 0.0, 0.0])\n",
    "remodel.transmat_ = np.array([\n",
    "                 [0.33, 0.34, 0.33, 0],\n",
    "                 [0.0, 0.33, 0.34, 0.33],\n",
    "                 [0.0, 0.0, 0.5, 0.5],\n",
    "                 [0.0, 0.0, 0.0, 1.0]]\n",
    "                            )"
   ]
  },
  {
   "cell_type": "code",
   "execution_count": 3,
   "metadata": {},
   "outputs": [
    {
     "data": {
      "text/plain": [
       "array([1., 0., 0., 0.])"
      ]
     },
     "execution_count": 3,
     "metadata": {},
     "output_type": "execute_result"
    }
   ],
   "source": [
    "remodel.startprob_"
   ]
  },
  {
   "cell_type": "code",
   "execution_count": 4,
   "metadata": {},
   "outputs": [
    {
     "data": {
      "text/plain": [
       "array([[0.33, 0.34, 0.33, 0.  ],\n",
       "       [0.  , 0.33, 0.34, 0.33],\n",
       "       [0.  , 0.  , 0.5 , 0.5 ],\n",
       "       [0.  , 0.  , 0.  , 1.  ]])"
      ]
     },
     "execution_count": 4,
     "metadata": {},
     "output_type": "execute_result"
    }
   ],
   "source": [
    "remodel.transmat_"
   ]
  },
  {
   "cell_type": "code",
   "execution_count": 5,
   "metadata": {},
   "outputs": [
    {
     "name": "stderr",
     "output_type": "stream",
     "text": [
      "         1    -6089416.4417             +nan\n",
      "         2    -5946378.6559     +143037.7859\n",
      "         3    -5936603.3922       +9775.2637\n",
      "         4    -5930675.5218       +5927.8704\n",
      "         5    -5924419.8519       +6255.6699\n",
      "         6    -5919046.1805       +5373.6714\n",
      "         7    -5914186.6791       +4859.5014\n",
      "         8    -5910652.5028       +3534.1763\n",
      "         9    -5908166.9754       +2485.5274\n",
      "        10    -5906612.8555       +1554.1199\n",
      "        11    -5905292.6250       +1320.2305\n",
      "        12    -5904127.6612       +1164.9638\n",
      "        13    -5903436.6022        +691.0590\n",
      "        14    -5902984.1163        +452.4859\n",
      "        15    -5902576.1048        +408.0115\n",
      "        16    -5902247.3980        +328.7068\n",
      "        17    -5901943.7126        +303.6854\n",
      "        18    -5901795.5284        +148.1842\n",
      "        19    -5901724.4619         +71.0665\n",
      "        20    -5901673.7484         +50.7135\n",
      "        21    -5901632.2682         +41.4801\n",
      "        22    -5901616.0650         +16.2033\n",
      "        23    -5901607.2099          +8.8551\n",
      "        24    -5901601.9392          +5.2706\n",
      "        25    -5901599.6034          +2.3358\n",
      "        26    -5901596.6193          +2.9842\n",
      "        27    -5901590.5696          +6.0497\n",
      "        28    -5901583.8867          +6.6828\n",
      "        29    -5901578.0381          +5.8486\n",
      "        30    -5901575.2732          +2.7649\n",
      "        31    -5901572.1988          +3.0744\n",
      "        32    -5901565.8056          +6.3932\n",
      "        33    -5901558.4203          +7.3853\n",
      "        34    -5901554.9431          +3.4772\n",
      "        35    -5901553.0589          +1.8842\n",
      "        36    -5901551.4762          +1.5827\n",
      "        37    -5901548.6570          +2.8192\n",
      "        38    -5901547.8779          +0.7791\n",
      "        39    -5901547.6934          +0.1845\n",
      "        40    -5901547.5503          +0.1431\n",
      "        41    -5901547.3942          +0.1561\n",
      "        42    -5901547.1219          +0.2723\n",
      "        43    -5901546.6655          +0.4564\n",
      "        44    -5901546.4484          +0.2171\n",
      "        45    -5901546.4134          +0.0350\n",
      "        46    -5901546.3941          +0.0193\n",
      "        47    -5901546.3788          +0.0153\n",
      "        48    -5901546.3655          +0.0134\n",
      "        49    -5901546.3532          +0.0123\n",
      "        50    -5901546.3415          +0.0116\n"
     ]
    },
    {
     "data": {
      "text/plain": [
       "GaussianHMM(init_params='cm', n_components=4, n_iter=50, params='cmts',\n",
       "            verbose=True)"
      ]
     },
     "execution_count": 5,
     "metadata": {},
     "output_type": "execute_result"
    }
   ],
   "source": [
    "remodel.fit(X, length)"
   ]
  },
  {
   "cell_type": "code",
   "execution_count": 6,
   "metadata": {},
   "outputs": [
    {
     "data": {
      "text/plain": [
       "array([[0.64347263, 0.26693216, 0.08959521, 0.        ],\n",
       "       [0.        , 0.74953593, 0.08629852, 0.16416555],\n",
       "       [0.        , 0.        , 0.36735288, 0.63264712],\n",
       "       [0.        , 0.        , 0.        , 1.        ]])"
      ]
     },
     "execution_count": 6,
     "metadata": {},
     "output_type": "execute_result"
    }
   ],
   "source": [
    "remodel.transmat_"
   ]
  },
  {
   "cell_type": "code",
   "execution_count": 7,
   "metadata": {},
   "outputs": [
    {
     "data": {
      "text/plain": [
       "array([1., 0., 0., 0.])"
      ]
     },
     "execution_count": 7,
     "metadata": {},
     "output_type": "execute_result"
    }
   ],
   "source": [
    "remodel.startprob_"
   ]
  },
  {
   "cell_type": "code",
   "execution_count": 8,
   "metadata": {},
   "outputs": [],
   "source": [
    "def encode_convs(profix):\n",
    "    sent_label = []\n",
    "    with open(profix + '_sentence_transformer.pkl', 'rb') as f:\n",
    "        data = pickle.load(f)\n",
    "    for i in range(0, len(data)):\n",
    "        labels = remodel.decode(np.array(data[i]))[1]\n",
    "        sent_label.append(labels)\n",
    "    \n",
    "    with open(profix + '_sent_trans_cons_label.pkl', 'wb') as f:\n",
    "        pickle.dump(sent_label, f)\n",
    "    return sent_label"
   ]
  },
  {
   "cell_type": "code",
   "execution_count": 9,
   "metadata": {},
   "outputs": [],
   "source": [
    "l = encode_convs('1800train_100dev_100test.source')"
   ]
  },
  {
   "cell_type": "code",
   "execution_count": null,
   "metadata": {},
   "outputs": [],
   "source": []
  }
 ],
 "metadata": {
  "kernelspec": {
   "display_name": "venv",
   "language": "python",
   "name": "venv"
  },
  "language_info": {
   "codemirror_mode": {
    "name": "ipython",
    "version": 3
   },
   "file_extension": ".py",
   "mimetype": "text/x-python",
   "name": "python",
   "nbconvert_exporter": "python",
   "pygments_lexer": "ipython3",
   "version": "3.8.4"
  }
 },
 "nbformat": 4,
 "nbformat_minor": 4
}
