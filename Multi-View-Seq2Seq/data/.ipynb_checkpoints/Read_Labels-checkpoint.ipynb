{
 "cells": [
  {
   "cell_type": "code",
   "execution_count": 1,
   "metadata": {},
   "outputs": [],
   "source": [
    "import pickle\n",
    "import json\n",
    "\n",
    "import re"
   ]
  },
  {
   "cell_type": "code",
   "execution_count": 2,
   "metadata": {},
   "outputs": [],
   "source": [
    "def concat_conversation(data, labels, sep = ' | ', label_type = '_sent_c99_label'):\n",
    "    conversations = []\n",
    "    summaries = []\n",
    "    for i in range(0, len(data)):\n",
    "        if len(data[i]['dialogue'].split('\\r\\n')) > 1:\n",
    "            sentences = data[i]['dialogue'].replace(\" |\", \" \").split('\\r\\n')\n",
    "            \n",
    "        else:\n",
    "            sentences = data[i]['dialogue'].replace(\" |\", \" \").split('\\n')\n",
    "            \n",
    "        if len(sentences) == 1:\n",
    "            continue\n",
    "            \n",
    "    \n",
    "        summaries.append(data[i]['summary'].strip('\\n').replace('\\r\\nt', ' '))\n",
    "\n",
    "        if len(labels) > 1:\n",
    "            \n",
    "            if label_type == '_sent_c99_label'\n",
    "                temp = ''\n",
    "                temp += sentences[0]\n",
    "                for j in range(1, len(sentences)):\n",
    "                    if labels[i][j] != labels[i][j-1]:\n",
    "\n",
    "                        temp = temp + sep + sentences[j]\n",
    "                    else:\n",
    "                        temp = temp + ' ' + sentences[j]\n",
    "                temp += ' | '\n",
    "                conversations.append(temp)\n",
    "            else:\n",
    "                temp = ' | '\n",
    "                temp += sentences[0]\n",
    "                for j in range(1, len(sentences)):\n",
    "                    if labels[i][j] != labels[i][j-1]:\n",
    "\n",
    "                        temp = temp + sep + sentences[j]\n",
    "                    else:\n",
    "                        temp = temp + ' ' + sentences[j]\n",
    "                conversations.append(temp)\n",
    "                \n",
    "        elif labels[0] == 1:\n",
    "            conversations.append(' | ' + ' | '.join(sentences))\n",
    "        elif labels[0] == 0:\n",
    "            conversations.append(' | ' + ' '.join(sentences))\n",
    "        \n",
    "    return conversations, summaries\n",
    "    \n",
    "\n",
    "def transform_format(prefix, label_type = '_sent_c99_label'):\n",
    "    with open(prefix + '.json', encoding = 'utf8') as json_file:\n",
    "        data = json.load(json_file)\n",
    "    if label_type != '_all' and label_type != '_none':\n",
    "        with open(prefix + label_type +'.pkl', 'rb') as f:\n",
    "            labels = pickle.load(f)\n",
    "    elif label_type == '_all':\n",
    "        labels = [1]\n",
    "    elif label_type == '_none':\n",
    "        labels = [0]\n",
    "        \n",
    "    cons, sums = concat_conversation(data, labels, label_type)\n",
    "    \n",
    "    print(len(cons))\n",
    "    print(len(sums))\n",
    "    \n",
    "\n",
    "    with open(prefix + label_type +'.source', 'wt', encoding='utf-8') as source_file, open(prefix + label_type + '.target', 'wt', encoding='utf-8') as target_file:\n",
    "        \n",
    "        for i in range(0, len(cons)):\n",
    "            article = cons[i]\n",
    "            abstract = sums[i]\n",
    "            source_file.write(article + '\\n')\n",
    "            target_file.write(abstract + '\\n')\n",
    "            \n",
    "    "
   ]
  },
  {
   "cell_type": "code",
   "execution_count": 3,
   "metadata": {
    "scrolled": true
   },
   "outputs": [
    {
     "name": "stdout",
     "output_type": "stream",
     "text": [
      "14731\n",
      "14731\n",
      "14731\n",
      "14731\n",
      "14731\n",
      "14731\n",
      "14731\n",
      "14731\n",
      "818\n",
      "818\n",
      "818\n",
      "818\n",
      "818\n",
      "818\n",
      "818\n",
      "818\n",
      "819\n",
      "819\n",
      "819\n",
      "819\n",
      "819\n",
      "819\n",
      "819\n",
      "819\n"
     ]
    }
   ],
   "source": [
    "for u in ['train', 'val', 'test']:\n",
    "    transform_format(u, '_all')\n",
    "    transform_format(u, '_none')\n",
    "    transform_format(u, '_sent_trans_cons_label') \n",
    "    transform_format(u, '_sent_c99_label') "
   ]
  },
  {
   "cell_type": "code",
   "execution_count": null,
   "metadata": {},
   "outputs": [],
   "source": []
  },
  {
   "cell_type": "code",
   "execution_count": null,
   "metadata": {},
   "outputs": [],
   "source": []
  }
 ],
 "metadata": {
  "kernelspec": {
   "display_name": "Python 3",
   "language": "python",
   "name": "python3"
  },
  "language_info": {
   "codemirror_mode": {
    "name": "ipython",
    "version": 3
   },
   "file_extension": ".py",
   "mimetype": "text/x-python",
   "name": "python",
   "nbconvert_exporter": "python",
   "pygments_lexer": "ipython3",
   "version": "3.8.3"
  }
 },
 "nbformat": 4,
 "nbformat_minor": 4
}
