{
 "cells": [
  {
   "cell_type": "code",
   "execution_count": 1,
   "metadata": {},
   "outputs": [],
   "source": [
    "import pickle\n",
    "with open('train_sentence_transformer.pkl', 'rb') as f:\n",
    "    train = pickle.load(f)\n",
    "with open('val_sentence_transformer.pkl', 'rb') as f:\n",
    "    val = pickle.load(f)\n",
    "with open('test_sentence_transformer.pkl', 'rb') as f:\n",
    "    test = pickle.load(f)"
   ]
  },
  {
   "cell_type": "code",
   "execution_count": 2,
   "metadata": {},
   "outputs": [],
   "source": [
    "import json\n",
    "with open('test.json', encoding = 'utf8') as json_file:\n",
    "    data = json.load(json_file)\n",
    "    \n",
    "conversations = []\n",
    "summaries = []\n",
    "for i in range(0, len(data)):\n",
    "    if len(data[i]['dialogue'].split('\\r\\n')) > 1:\n",
    "        sentences = data[i]['dialogue'].split('\\r\\n')\n",
    "    else:\n",
    "        sentences = data[i]['dialogue'].split('\\n')\n",
    "\n",
    "    conversations.append(sentences)\n",
    "    summaries.append(data[i]['summary'].strip('\\n').replace('\\r\\nt', ' '))"
   ]
  },
  {
   "cell_type": "code",
   "execution_count": 4,
   "metadata": {},
   "outputs": [],
   "source": [
    "import numpy as np\n",
    "length = []\n",
    "for i in range(0, len(train)):\n",
    "    length.append(len(train[i]))\n",
    "for i in range(0, len(val)):\n",
    "    length.append(len(val[i]))\n",
    "for i in range(0, len(test)):\n",
    "    length.append(len(test[i]))\n",
    "X = []\n",
    "for i in range(0, len(train)):\n",
    "    for j in range(0, len(train[i])):\n",
    "        X.append(np.array(train[i][j]))\n",
    "for i in range(0, len(val)):\n",
    "    for j in range(0,len(val[i])):\n",
    "        X.append(np.array(val[i][j]))\n",
    "for i in range(0, len(test)):\n",
    "    for j in range(0, len(test[i])):\n",
    "        X.append(np.array(test[i][j]))"
   ]
  },
  {
   "cell_type": "code",
   "execution_count": 4,
   "metadata": {},
   "outputs": [],
   "source": [
    "from hmmlearn import hmm"
   ]
  },
  {
   "cell_type": "code",
   "execution_count": 7,
   "metadata": {},
   "outputs": [],
   "source": [
    "remodel = hmm.GaussianHMM(n_components=4, n_iter = 50, covariance_type = 'diag', verbose = True, init_params=\"cm\", params=\"cmts\")\n",
    "remodel.startprob_ = np.array([1, 0.0, 0.0, 0.0])\n",
    "remodel.transmat_ = np.array([\n",
    "                 [0.33, 0.34, 0.33, 0],\n",
    "                 [0.0, 0.33, 0.34, 0.33],\n",
    "                 [0.0, 0.0, 0.5, 0.5],\n",
    "                 [0.0, 0.0, 0.0, 1.0]]\n",
    "                            )"
   ]
  },
  {
   "cell_type": "code",
   "execution_count": 8,
   "metadata": {},
   "outputs": [
    {
     "data": {
      "text/plain": [
       "array([1., 0., 0., 0.])"
      ]
     },
     "execution_count": 8,
     "metadata": {},
     "output_type": "execute_result"
    }
   ],
   "source": [
    "remodel.startprob_"
   ]
  },
  {
   "cell_type": "code",
   "execution_count": 9,
   "metadata": {},
   "outputs": [
    {
     "data": {
      "text/plain": [
       "array([[0.33, 0.34, 0.33, 0.  ],\n",
       "       [0.  , 0.33, 0.34, 0.33],\n",
       "       [0.  , 0.  , 0.5 , 0.5 ],\n",
       "       [0.  , 0.  , 0.  , 1.  ]])"
      ]
     },
     "execution_count": 9,
     "metadata": {},
     "output_type": "execute_result"
    }
   ],
   "source": [
    "remodel.transmat_"
   ]
  },
  {
   "cell_type": "code",
   "execution_count": 10,
   "metadata": {},
   "outputs": [
    {
     "name": "stderr",
     "output_type": "stream",
     "text": [
      "         1  -101222337.8171             +nan\n",
      "         2   -99645230.3235    +1577107.4936\n",
      "         3   -99577213.9777      +68016.3458\n",
      "         4   -99547893.7581      +29320.2196\n",
      "         5   -99530076.8272      +17816.9309\n",
      "         6   -99518065.5052      +12011.3220\n",
      "         7   -99509546.5715       +8518.9336\n",
      "         8   -99502574.1224       +6972.4491\n",
      "         9   -99496127.6491       +6446.4733\n",
      "        10   -99490477.7123       +5649.9368\n",
      "        11   -99485387.8630       +5089.8493\n",
      "        12   -99480727.7734       +4660.0896\n",
      "        13   -99476874.9326       +3852.8408\n",
      "        14   -99473628.9414       +3245.9912\n",
      "        15   -99470960.1391       +2668.8023\n",
      "        16   -99468693.4885       +2266.6506\n",
      "        17   -99466570.1920       +2123.2965\n",
      "        18   -99464738.9040       +1831.2880\n",
      "        19   -99463232.1281       +1506.7759\n",
      "        20   -99462103.8073       +1128.3209\n",
      "        21   -99461116.9901        +986.8171\n",
      "        22   -99460284.5070        +832.4831\n",
      "        23   -99459663.9416        +620.5653\n",
      "        24   -99459091.1078        +572.8338\n",
      "        25   -99458542.3375        +548.7703\n",
      "        26   -99458000.9709        +541.3666\n",
      "        27   -99457452.6818        +548.2890\n",
      "        28   -99456953.5855        +499.0963\n",
      "        29   -99456579.3590        +374.2265\n",
      "        30   -99456286.1314        +293.2275\n",
      "        31   -99456023.1556        +262.9759\n",
      "        32   -99455822.2996        +200.8560\n",
      "        33   -99455660.9897        +161.3099\n",
      "        34   -99455502.6466        +158.3431\n",
      "        35   -99455332.8614        +169.7852\n",
      "        36   -99455127.0600        +205.8014\n",
      "        37   -99454968.6305        +158.4296\n",
      "        38   -99454850.6802        +117.9503\n",
      "        39   -99454762.2702         +88.4099\n",
      "        40   -99454698.5945         +63.6757\n",
      "        41   -99454653.8397         +44.7548\n",
      "        42   -99454619.4888         +34.3509\n",
      "        43   -99454590.4501         +29.0387\n",
      "        44   -99454565.0947         +25.3554\n",
      "        45   -99454545.8945         +19.2001\n",
      "        46   -99454528.6353         +17.2592\n",
      "        47   -99454513.3986         +15.2368\n",
      "        48   -99454501.3361         +12.0625\n",
      "        49   -99454491.4398          +9.8963\n",
      "        50   -99454482.5354          +8.9043\n"
     ]
    },
    {
     "data": {
      "text/plain": [
       "GaussianHMM(algorithm='viterbi', covariance_type='diag', covars_prior=0.01,\n",
       "            covars_weight=1, init_params='cm', means_prior=0, means_weight=0,\n",
       "            min_covar=0.001, n_components=4, n_iter=50, params='cmts',\n",
       "            random_state=None, startprob_prior=1.0, tol=0.01,\n",
       "            transmat_prior=1.0, verbose=True)"
      ]
     },
     "execution_count": 10,
     "metadata": {},
     "output_type": "execute_result"
    }
   ],
   "source": [
    "remodel.fit(X, length)"
   ]
  },
  {
   "cell_type": "code",
   "execution_count": 11,
   "metadata": {},
   "outputs": [
    {
     "data": {
      "text/plain": [
       "array([[0.79145594, 0.14327234, 0.06527172, 0.        ],\n",
       "       [0.        , 0.73221499, 0.22068628, 0.04709873],\n",
       "       [0.        , 0.        , 0.85381381, 0.14618619],\n",
       "       [0.        , 0.        , 0.        , 1.        ]])"
      ]
     },
     "execution_count": 11,
     "metadata": {},
     "output_type": "execute_result"
    }
   ],
   "source": [
    "remodel.transmat_"
   ]
  },
  {
   "cell_type": "code",
   "execution_count": 12,
   "metadata": {},
   "outputs": [
    {
     "data": {
      "text/plain": [
       "array([1., 0., 0., 0.])"
      ]
     },
     "execution_count": 12,
     "metadata": {},
     "output_type": "execute_result"
    }
   ],
   "source": [
    "remodel.startprob_"
   ]
  },
  {
   "cell_type": "code",
   "execution_count": 20,
   "metadata": {},
   "outputs": [],
   "source": [
    "def encode_convs(profix):\n",
    "    sent_label = []\n",
    "    with open(profix + '_sentence_transformer.pkl', 'rb') as f:\n",
    "        data = pickle.load(f)\n",
    "    for i in range(0, len(data)):\n",
    "        labels = remodel.decode(np.array(data[i]))[1]\n",
    "        sent_label.append(labels)\n",
    "    \n",
    "    with open(profix + '_sent_trans_cons_label_2.pkl', 'wb') as f:\n",
    "        pickle.dump(sent_label, f)\n",
    "    return sent_label"
   ]
  },
  {
   "cell_type": "code",
   "execution_count": 21,
   "metadata": {},
   "outputs": [],
   "source": [
    "l = encode_convs('train')"
   ]
  },
  {
   "cell_type": "code",
   "execution_count": 22,
   "metadata": {},
   "outputs": [],
   "source": [
    "l = encode_convs('val')"
   ]
  },
  {
   "cell_type": "code",
   "execution_count": 23,
   "metadata": {},
   "outputs": [],
   "source": [
    "l = encode_convs('test')"
   ]
  },
  {
   "cell_type": "code",
   "execution_count": null,
   "metadata": {},
   "outputs": [],
   "source": []
  }
 ],
 "metadata": {
  "kernelspec": {
   "display_name": "Python 3",
   "language": "python",
   "name": "python3"
  },
  "language_info": {
   "codemirror_mode": {
    "name": "ipython",
    "version": 3
   },
   "file_extension": ".py",
   "mimetype": "text/x-python",
   "name": "python",
   "nbconvert_exporter": "python",
   "pygments_lexer": "ipython3",
   "version": "3.8.3"
  }
 },
 "nbformat": 4,
 "nbformat_minor": 4
}
