{
 "cells": [
  {
   "cell_type": "code",
   "execution_count": 1,
   "metadata": {},
   "outputs": [],
   "source": [
    "import pickle\n",
    "import json\n",
    "import re"
   ]
  },
  {
   "cell_type": "code",
   "execution_count": 2,
   "metadata": {},
   "outputs": [],
   "source": [
    "def concat_conversation(data, labels, sep = ' | ', label_type = '_sent_c99_label'):\n",
    "    conversations = []\n",
    "    #summaries = []\n",
    "    \n",
    "    if sep != ' | ':\n",
    "        sep += ' '\n",
    "    \n",
    "    for i in range(0, len(data)):\n",
    "        if len(data[i].split('\\r\\n')) > 1:\n",
    "            sentences = data[i].replace(\" |\", \" \").split('<sep>')\n",
    "        else:\n",
    "            sentences = data[i].replace(\" |\", \" \").split('<sep>')\n",
    "\n",
    "        #summaries.append(data[i]['summary'].strip('\\n').replace('\\r\\nt', ' '))\n",
    "\n",
    "        if len(labels) > 1:\n",
    "            \n",
    "            if label_type == '_sent_c99_label':\n",
    "                temp = ''\n",
    "                temp += 'Speaker1: ' + sentences[0]\n",
    "                for j in range(1, len(sentences)):\n",
    "                    prefix = 'Speaker1: ' if j%2 == 0 else 'Speaker2: '\n",
    "                    if labels[i][j] != labels[i][j-1]:\n",
    "                        temp = temp + sep + prefix + sentences[j]\n",
    "                    else:\n",
    "                        temp = temp + ' ' + prefix + sentences[j]\n",
    "                temp += ' | '\n",
    "                conversations.append(temp)\n",
    "            else:\n",
    "                temp = ' | '\n",
    "                temp += 'Speaker1: ' + sentences[0]\n",
    "                for j in range(1, len(sentences)):\n",
    "                    prefix = ' Speaker1: ' if j%2 == 0 else ' Speaker2: '\n",
    "                    if labels[i][j] != labels[i][j-1]:\n",
    "                        temp = temp + sep + prefix +  sentences[j]\n",
    "                    else:\n",
    "                        temp = temp + ' ' + prefix + sentences[j]\n",
    "                conversations.append(temp)\n",
    "        \n",
    "        else:\n",
    "            for i in range(len(sentences)):\n",
    "                if i % 2 == 0:\n",
    "                    sentences[i] = 'Speaker1: '+sentences[i]\n",
    "                else:\n",
    "                    sentences[i] = 'Speaker2: '+sentences[i]\n",
    "                    \n",
    "            if labels[0] == 1:\n",
    "                conversations.append(' | ' + ' | '.join(sentences))\n",
    "            elif labels[0] == 0:\n",
    "                conversations.append(' | ' + ' '.join(sentences))\n",
    "\n",
    "    return conversations\n",
    "    \n",
    "\n",
    "def transform_format(prefix, label_type = '_sent_c99_label'):\n",
    "    with open(prefix, encoding = 'utf8') as file:\n",
    "        data = file.readlines()\n",
    "    if label_type != '_all' and label_type != '_none':\n",
    "        with open(prefix + label_type +'.pkl', 'rb') as f:\n",
    "            labels = pickle.load(f)\n",
    "    elif label_type == '_all':\n",
    "        labels = [1]\n",
    "    elif label_type == '_none':\n",
    "        labels = [0]\n",
    "    \n",
    "    cons = concat_conversation(data, labels, label_type)  \n",
    "\n",
    "    with open(prefix + label_type +'.source', 'wt', encoding='utf-8') as source_file, open(prefix + label_type + '.target', 'wt', encoding='utf-8') as target_file:\n",
    "        \n",
    "        for i in range(0, len(cons)):\n",
    "            article = cons[i]\n",
    "            #abstract = sums[i]\n",
    "            source_file.write(article + '\\n')\n",
    "            #target_file.write(abstract + '\\n')"
   ]
  },
  {
   "cell_type": "code",
   "execution_count": 3,
   "metadata": {
    "scrolled": true
   },
   "outputs": [],
   "source": [
    "for u in ['1800train_100dev_100test.source']:\n",
    "    # transform_format(u, '_all')\n",
    "    # transform_format(u, '_none')\n",
    "    transform_format(u, '_sent_trans_cons_label') \n",
    "    transform_format(u, '_sent_c99_label') "
   ]
  },
  {
   "cell_type": "code",
   "execution_count": null,
   "metadata": {},
   "outputs": [],
   "source": []
  },
  {
   "cell_type": "code",
   "execution_count": null,
   "metadata": {},
   "outputs": [],
   "source": []
  }
 ],
 "metadata": {
  "kernelspec": {
   "display_name": "venv",
   "language": "python",
   "name": "venv"
  },
  "language_info": {
   "codemirror_mode": {
    "name": "ipython",
    "version": 3
   },
   "file_extension": ".py",
   "mimetype": "text/x-python",
   "name": "python",
   "nbconvert_exporter": "python",
   "pygments_lexer": "ipython3",
   "version": "3.8.4"
  }
 },
 "nbformat": 4,
 "nbformat_minor": 4
}
