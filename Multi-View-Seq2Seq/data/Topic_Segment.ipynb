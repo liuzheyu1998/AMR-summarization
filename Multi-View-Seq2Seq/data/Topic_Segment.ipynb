{
 "cells": [
  {
   "cell_type": "code",
   "execution_count": 1,
   "metadata": {},
   "outputs": [],
   "source": [
    "import uts\n",
    "import gensim\n",
    "import pickle"
   ]
  },
  {
   "cell_type": "code",
   "execution_count": 2,
   "metadata": {},
   "outputs": [],
   "source": [
    "# def remove_name(s):\n",
    "#     temp = \"\"\n",
    "#     flag = 0\n",
    "#     for i in range(0, len(s)):\n",
    "#         if s[i] == ':':\n",
    "#             flag = 1\n",
    "#             continue\n",
    "#         if flag == 1:\n",
    "#             temp += s[i]\n",
    "#     return temp"
   ]
  },
  {
   "cell_type": "code",
   "execution_count": 3,
   "metadata": {},
   "outputs": [],
   "source": [
    "# with open('train3000.source', encoding = 'utf8') as file:\n",
    "#     data = file.readlines()\n",
    "# sent = []\n",
    "# for i in range(0, len(data)):\n",
    "#     sentences = data[i].split('|')\n",
    "#     sentences = [s.strip() for s in sentences if s.strip()]\n",
    "#     sent.append(sentences)\n",
    "# sent[0]"
   ]
  },
  {
   "cell_type": "code",
   "execution_count": 4,
   "metadata": {},
   "outputs": [],
   "source": [
    "# import string\n",
    "# from nltk.tokenize import word_tokenize\n",
    "# table = str.maketrans('', '', string.punctuation)\n",
    "# sentences = []\n",
    "# for i in range(0, len(sent)):\n",
    "#     for s in sent[i]:\n",
    "#         temp_sent = remove_name(s)\n",
    "#         tokens = word_tokenize(temp_sent)\n",
    "#         tokens = [w.lower() for w in tokens]\n",
    "#         stripped = [w.translate(table) for w in tokens]\n",
    "#         sentences.append(stripped)"
   ]
  },
  {
   "cell_type": "code",
   "execution_count": 5,
   "metadata": {},
   "outputs": [],
   "source": [
    "from C99 import C99"
   ]
  },
  {
   "cell_type": "code",
   "execution_count": 6,
   "metadata": {},
   "outputs": [],
   "source": [
    "def encode_convs(profix):\n",
    "    model = C99(window = 4, std_coeff = 1)\n",
    "    sent_label = []\n",
    "    with open(profix+\"_sentence_transformer.pkl\", 'rb') as f:\n",
    "        data = pickle.load(f)\n",
    "    for i in range(0, len(data)):\n",
    "        boundary = model.segment(data[i])\n",
    "        temp_labels = []\n",
    "        l = 0\n",
    "        for j in range(0, len(boundary)):\n",
    "            if boundary[j] == 1:\n",
    "                l += 1\n",
    "            temp_labels.append(l)\n",
    "        sent_label.append(temp_labels)\n",
    "    \n",
    "    with open(profix + '_sent_c99_label.pkl', 'wb') as f:\n",
    "        pickle.dump(sent_label, f)\n",
    "    \n",
    "    return sent_label"
   ]
  },
  {
   "cell_type": "code",
   "execution_count": 7,
   "metadata": {},
   "outputs": [],
   "source": [
    "l = encode_convs('1800train_100dev_100test.source')"
   ]
  },
  {
   "cell_type": "code",
   "execution_count": null,
   "metadata": {},
   "outputs": [],
   "source": []
  }
 ],
 "metadata": {
  "kernelspec": {
   "display_name": "venv",
   "language": "python",
   "name": "venv"
  },
  "language_info": {
   "codemirror_mode": {
    "name": "ipython",
    "version": 3
   },
   "file_extension": ".py",
   "mimetype": "text/x-python",
   "name": "python",
   "nbconvert_exporter": "python",
   "pygments_lexer": "ipython3",
   "version": "3.8.4"
  }
 },
 "nbformat": 4,
 "nbformat_minor": 4
}
