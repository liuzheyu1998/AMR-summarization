{
 "cells": [
  {
   "cell_type": "code",
   "execution_count": 119,
   "metadata": {},
   "outputs": [],
   "source": [
    "import uts"
   ]
  },
  {
   "cell_type": "code",
   "execution_count": 120,
   "metadata": {},
   "outputs": [],
   "source": [
    "import json\n",
    "with open('train.json', encoding = 'utf8') as json_file:\n",
    "    train = json.load(json_file)\n",
    "with open('test.json', encoding = 'utf8') as json_file:\n",
    "    test = json.load(json_file)\n",
    "with open('val.json', encoding = 'utf8') as json_file:\n",
    "    val = json.load(json_file)"
   ]
  },
  {
   "cell_type": "code",
   "execution_count": 121,
   "metadata": {},
   "outputs": [],
   "source": [
    "import gensim"
   ]
  },
  {
   "cell_type": "code",
   "execution_count": 122,
   "metadata": {},
   "outputs": [],
   "source": [
    "def remove_name(s):\n",
    "    temp = \"\"\n",
    "    flag = 0\n",
    "    for i in range(0, len(s)):\n",
    "        if s[i] == ':':\n",
    "            flag = 1\n",
    "            continue\n",
    "        if flag == 1:\n",
    "            temp += s[i]\n",
    "    return temp"
   ]
  },
  {
   "cell_type": "code",
   "execution_count": 123,
   "metadata": {},
   "outputs": [],
   "source": [
    "sent = []\n",
    "for data in (train, test, val):\n",
    "    for i in range(0, len(data)):\n",
    "        if len(data[i]['dialogue'].split('\\r\\n')) > 1:\n",
    "            sentences = data[i]['dialogue'].split('\\r\\n')\n",
    "        else:\n",
    "            sentences = data[i]['dialogue'].split('\\n')\n",
    "        sent.append(sentences)"
   ]
  },
  {
   "cell_type": "code",
   "execution_count": 124,
   "metadata": {},
   "outputs": [
    {
     "data": {
      "text/plain": [
       "['Amanda: I baked  cookies. Do you want some?',\n",
       " 'Jerry: Sure!',\n",
       " \"Amanda: I'll bring you tomorrow :-)\"]"
      ]
     },
     "execution_count": 124,
     "metadata": {},
     "output_type": "execute_result"
    }
   ],
   "source": [
    "sent[0]"
   ]
  },
  {
   "cell_type": "code",
   "execution_count": 125,
   "metadata": {},
   "outputs": [],
   "source": [
    "import string\n",
    "from nltk.tokenize import word_tokenize\n",
    "table = str.maketrans('', '', string.punctuation)\n",
    "sentences = []\n",
    "for i in range(0, len(sent)):\n",
    "    for s in sent[i]:\n",
    "        temp_sent = remove_name(s)\n",
    "        tokens = word_tokenize(temp_sent)\n",
    "        tokens = [w.lower() for w in tokens]\n",
    "        stripped = [w.translate(table) for w in tokens]\n",
    "        sentences.append(stripped)"
   ]
  },
  {
   "cell_type": "code",
   "execution_count": 309,
   "metadata": {},
   "outputs": [],
   "source": [
    "from C99 import C99"
   ]
  },
  {
   "cell_type": "code",
   "execution_count": 310,
   "metadata": {},
   "outputs": [],
   "source": [
    "import pickle\n",
    "with open('train_sentence_transformer.pkl', 'rb') as f:\n",
    "    train = pickle.load(f)\n",
    "with open('val_sentence_transformer.pkl', 'rb') as f:\n",
    "    val = pickle.load(f)\n",
    "with open('test_sentence_transformer.pkl', 'rb') as f:\n",
    "    test = pickle.load(f)"
   ]
  },
  {
   "cell_type": "code",
   "execution_count": null,
   "metadata": {},
   "outputs": [],
   "source": []
  },
  {
   "cell_type": "code",
   "execution_count": null,
   "metadata": {},
   "outputs": [],
   "source": []
  },
  {
   "cell_type": "code",
   "execution_count": 311,
   "metadata": {},
   "outputs": [],
   "source": [
    "def encode_convs(profix):\n",
    "    model = C99(window = 4, std_coeff = 1)\n",
    "    sent_label = []\n",
    "    with open(profix+\"_sentence_transformer.pkl\", 'rb') as f:\n",
    "        data = pickle.load(f)\n",
    "    for i in range(0, len(data)):\n",
    "        boundary = model.segment(data[i])\n",
    "        temp_labels = []\n",
    "        l = 0\n",
    "        for j in range(0, len(boundary)):\n",
    "            if boundary[j] == 1:\n",
    "                l += 1\n",
    "            temp_labels.append(l)\n",
    "        sent_label.append(temp_labels)\n",
    "    \n",
    "    with open(profix + '_sent_c99_label.pkl', 'wb') as f:\n",
    "        pickle.dump(sent_label, f)\n",
    "    \n",
    "    return sent_label"
   ]
  },
  {
   "cell_type": "code",
   "execution_count": 312,
   "metadata": {},
   "outputs": [],
   "source": [
    "l = encode_convs('train')"
   ]
  },
  {
   "cell_type": "code",
   "execution_count": 313,
   "metadata": {},
   "outputs": [],
   "source": [
    "l = encode_convs('val')"
   ]
  },
  {
   "cell_type": "code",
   "execution_count": 314,
   "metadata": {},
   "outputs": [],
   "source": [
    "l = encode_convs('test')"
   ]
  },
  {
   "cell_type": "code",
   "execution_count": null,
   "metadata": {},
   "outputs": [],
   "source": []
  },
  {
   "cell_type": "code",
   "execution_count": null,
   "metadata": {},
   "outputs": [],
   "source": []
  },
  {
   "cell_type": "code",
   "execution_count": null,
   "metadata": {},
   "outputs": [],
   "source": []
  }
 ],
 "metadata": {
  "kernelspec": {
   "display_name": "Python 3",
   "language": "python",
   "name": "python3"
  },
  "language_info": {
   "codemirror_mode": {
    "name": "ipython",
    "version": 3
   },
   "file_extension": ".py",
   "mimetype": "text/x-python",
   "name": "python",
   "nbconvert_exporter": "python",
   "pygments_lexer": "ipython3",
   "version": "3.8.3"
  }
 },
 "nbformat": 4,
 "nbformat_minor": 4
}
